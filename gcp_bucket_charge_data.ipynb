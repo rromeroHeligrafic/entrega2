{
 "cells": [
  {
   "cell_type": "code",
   "execution_count": null,
   "metadata": {},
   "outputs": [],
   "source": [
    "import os\n",
    "from google.cloud import storage\n"
   ]
  },
  {
   "cell_type": "code",
   "execution_count": null,
   "metadata": {},
   "outputs": [],
   "source": [
    "client = storage.Client.from_service_account_json(\"C:\\DEV\\python\\mineria-datos\\credencial\\entrega2-424015-9aeaeac36b69.json\")\n",
    "\n",
    "buckets = client.list_buckets()\n",
    "for bucket in buckets:\n",
    "    print(bucket.name)"
   ]
  },
  {
   "cell_type": "code",
   "execution_count": null,
   "metadata": {},
   "outputs": [],
   "source": [
    "def upload_to_bucket(bucket_name, source_folder):\n",
    "    \"\"\"Sube una carpeta completa a un bucket de GCP.\"\"\"\n",
    "    # Inicializa el cliente de storage usando el archivo de credenciales\n",
    "    client = storage.Client.from_service_account_json(\"C:\\\\DEV\\\\python\\\\mineria-datos\\\\credencial\\\\entrega2-424015-9aeaeac36b69.json\")\n",
    "    bucket = client.bucket(bucket_name)\n",
    "\n",
    "    for root, dirs, files in os.walk(source_folder):\n",
    "        for file_name in files:\n",
    "            if file_name.endswith('.csv'):  # Opcional: solo archivos .csv\n",
    "                # Ruta completa al archivo local\n",
    "                local_file_path = os.path.join(root, file_name)\n",
    "                # Ruta dentro del bucket\n",
    "                relative_path = os.path.relpath(local_file_path, source_folder)\n",
    "                blob_path = relative_path.replace(\"\\\\\", \"/\")  # Reemplazar backslashes en Windows\n",
    "\n",
    "                blob = bucket.blob(blob_path)\n",
    "                blob.upload_from_filename(local_file_path)\n",
    "                print(f\"Archivo {local_file_path} subido a {blob_path}\")"
   ]
  },
  {
   "cell_type": "code",
   "execution_count": null,
   "metadata": {},
   "outputs": [],
   "source": [
    "bucket_name = \"bucket_datos_transporte\"\n",
    "source_folder = \"C:\\\\DEV\\\\python\\\\mineria-datos\\\\entrega2\\\\data\"  # Ajusta esta ruta a tu carpeta local\n",
    "\n",
    "upload_to_bucket(bucket_name, source_folder)"
   ]
  }
 ],
 "metadata": {
  "kernelspec": {
   "display_name": "Python 3",
   "language": "python",
   "name": "python3"
  },
  "language_info": {
   "codemirror_mode": {
    "name": "ipython",
    "version": 3
   },
   "file_extension": ".py",
   "mimetype": "text/x-python",
   "name": "python",
   "nbconvert_exporter": "python",
   "pygments_lexer": "ipython3",
   "version": "3.12.2"
  }
 },
 "nbformat": 4,
 "nbformat_minor": 2
}
