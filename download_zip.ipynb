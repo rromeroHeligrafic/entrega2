{
 "cells": [
  {
   "cell_type": "code",
   "execution_count": null,
   "metadata": {},
   "outputs": [],
   "source": [
    "#import request\n",
    "import requests\n",
    "import zipfile\n",
    "import os\n",
    "import urllib.request\n",
    "import pandas as pd\n",
    "import csv\n"
   ]
  },
  {
   "cell_type": "code",
   "execution_count": null,
   "metadata": {},
   "outputs": [],
   "source": [
    "url = \"https://us-central1-duoc-bigdata-sc-2023-01-01.cloudfunctions.net/datos_transporte_et\"\n"
   ]
  },
  {
   "cell_type": "code",
   "execution_count": null,
   "metadata": {},
   "outputs": [],
   "source": [
    "response = requests.get(url)\n",
    "data = response.json()"
   ]
  },
  {
   "cell_type": "code",
   "execution_count": null,
   "metadata": {},
   "outputs": [],
   "source": [
    "resources = data[\"result\"][\"resources\"]\n",
    "urls_descarga = [resource[\"url\"] for resource in resources if resource[\"format\"] == \"ZIP\"]\n",
    "\n",
    "print(urls_descarga)   "
   ]
  },
  {
   "cell_type": "code",
   "execution_count": null,
   "metadata": {},
   "outputs": [],
   "source": [
    "for resource in data['result']['resources']:\n",
    "    id = resource['id']\n",
    "    url = resource['url']\n",
    "    name_doc = f\"{id}.zip\"\n",
    "    urllib.request.urlretrieve(url, name_doc)\n",
    "    folder = os.path.splitext(name_doc)[0]\n",
    "    with zipfile.ZipFile(name_doc, 'r') as zip_ref:\n",
    "        zip_ref.extractall(folder)\n",
    "    os.remove(name_doc)"
   ]
  },
  {
   "cell_type": "code",
   "execution_count": null,
   "metadata": {},
   "outputs": [],
   "source": [
    "#input_folder = os.path.dirname(os.path.abspath(__file__))\n",
    "input_folder = os.getcwd()\n",
    "print()\n",
    "for root, dirs, files in os.walk(input_folder):\n",
    "    for file in files:\n",
    "        if file.endswith(\".txt\"):\n",
    "            txt_file_path = os.path.join(root, file)\n",
    "            csv_file_path = os.path.splitext(txt_file_path)[0] + \".csv\"\n",
    "            \n",
    "            try:\n",
    "                # Leer el archivo txt en un DataFrame\n",
    "                df = pd.read_csv(txt_file_path, delimiter=\",\")  # Ajusta el delimitador según sea necesario\n",
    "                \n",
    "                # Guardar el DataFrame en un archivo CSV\n",
    "                #df.to_csv(csv_file_path, index=False, quoting=csv.QUOTE_NONE, escapechar='\\\\')\n",
    "                df.to_csv(csv_file_path, index=False, quoting=csv.QUOTE_NONE, escapechar='\\\\')\n",
    "                os.remove(txt_file_path)\n",
    "                print(f\"Convertido: {txt_file_path} a {csv_file_path}\")\n",
    "            except Exception as e:\n",
    "                print(f\"Error al convertir {txt_file_path}: {e}\")"
   ]
  }
 ],
 "metadata": {
  "kernelspec": {
   "display_name": "Python 3",
   "language": "python",
   "name": "python3"
  },
  "language_info": {
   "codemirror_mode": {
    "name": "ipython",
    "version": 3
   },
   "file_extension": ".py",
   "mimetype": "text/x-python",
   "name": "python",
   "nbconvert_exporter": "python",
   "pygments_lexer": "ipython3",
   "version": "3.12.2"
  }
 },
 "nbformat": 4,
 "nbformat_minor": 2
}
