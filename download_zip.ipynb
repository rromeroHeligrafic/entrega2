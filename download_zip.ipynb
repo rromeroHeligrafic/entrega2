{
 "cells": [
  {
   "cell_type": "code",
   "execution_count": 4,
   "metadata": {},
   "outputs": [],
   "source": [
    "#import request\n",
    "import requests\n",
    "import zipfile\n",
    "import os\n",
    "import urllib.request\n"
   ]
  },
  {
   "cell_type": "code",
   "execution_count": 5,
   "metadata": {},
   "outputs": [],
   "source": [
    "url = \"https://us-central1-duoc-bigdata-sc-2023-01-01.cloudfunctions.net/datos_transporte_et\"\n"
   ]
  },
  {
   "cell_type": "code",
   "execution_count": 6,
   "metadata": {},
   "outputs": [],
   "source": [
    "response = requests.get(url)\n",
    "data = response.json()"
   ]
  },
  {
   "cell_type": "code",
   "execution_count": 12,
   "metadata": {},
   "outputs": [
    {
     "name": "stdout",
     "output_type": "stream",
     "text": [
      "['https://storage.googleapis.com/demo-transantiago/gtfs-v82-po20230114.zip', 'https://storage.googleapis.com/demo-transantiago/gtfs-v81-po20230107.zip', 'https://storage.googleapis.com/demo-transantiago/gtfs-v80-po20230102.zip', 'https://storage.googleapis.com/demo-transantiago/gtfs-v79-po20221217.zip', 'https://storage.googleapis.com/demo-transantiago/gtfs-v78-po20221210.zip', 'https://storage.googleapis.com/demo-transantiago/gtfs-v77-po20221119.zip', 'https://storage.googleapis.com/demo-transantiago/gtfs-v76-po20221105.zip', 'https://storage.googleapis.com/demo-transantiago/gtfs-v75-po20221022.zip', 'https://storage.googleapis.com/demo-transantiago/gtfs-v74-po20220827.zip', 'https://storage.googleapis.com/demo-transantiago/gtfs-v73-po20220806.zip', 'https://storage.googleapis.com/demo-transantiago/gtfs-v72-po20220702.zip', 'https://storage.googleapis.com/demo-transantiago/gtfs-v71-po20220528.zip', 'https://storage.googleapis.com/demo-transantiago/gtfsv40.zip', 'https://storage.googleapis.com/demo-transantiago/gtfsv39.zip', 'https://storage.googleapis.com/demo-transantiago/gtfsv38c.zip', 'https://storage.googleapis.com/demo-transantiago/gtfsv37.zip', 'https://storage.googleapis.com/demo-transantiago/gtfsv36.zip', 'https://storage.googleapis.com/demo-transantiago/gtfsv35l6.zip', 'https://storage.googleapis.com/demo-transantiago/gtfsv34.zip', 'https://storage.googleapis.com/demo-transantiago/gtfsv33tc.zip', 'https://storage.googleapis.com/demo-transantiago/gtfsv32.zip', 'https://storage.googleapis.com/demo-transantiago/gtfsv31.zip', 'https://storage.googleapis.com/demo-transantiago/gtfs.zip', 'https://storage.googleapis.com/demo-transantiago/gtfsv27e1.zip', 'https://storage.googleapis.com/demo-transantiago/gtfsv27.zip', 'https://storage.googleapis.com/demo-transantiago/gtfsv26.zip', 'https://storage.googleapis.com/demo-transantiago/gtfsv25.zip', 'https://storage.googleapis.com/demo-transantiago/gtfsv24.zip', 'https://storage.googleapis.com/demo-transantiago/gtfsv23.zip', 'https://storage.googleapis.com/demo-transantiago/gtfsv20.zip', 'https://storage.googleapis.com/demo-transantiago/gtfsv19.zip', 'https://storage.googleapis.com/demo-transantiago/gtfsv18.zip', 'https://storage.googleapis.com/demo-transantiago/gtfsv17.zip']\n"
     ]
    }
   ],
   "source": [
    "resources = data[\"result\"][\"resources\"]\n",
    "urls_descarga = [resource[\"url\"] for resource in resources if resource[\"format\"] == \"ZIP\"]\n",
    "\n",
    "print(urls_descarga)   "
   ]
  },
  {
   "cell_type": "code",
   "execution_count": 19,
   "metadata": {},
   "outputs": [],
   "source": [
    "for resource in data['result']['resources']:\n",
    "    id = resource['id']\n",
    "    url = resource['url']\n",
    "    name_doc = f\"{id}.zip\"\n",
    "    urllib.request.urlretrieve(url, name_doc)\n",
    "    folder = os.path.splitext(name_doc)[0]\n",
    "    with zipfile.ZipFile(name_doc, 'r') as zip_ref:\n",
    "        zip_ref.extractall(folder)\n",
    "    os.remove(name_doc)"
   ]
  }
 ],
 "metadata": {
  "kernelspec": {
   "display_name": "Python 3",
   "language": "python",
   "name": "python3"
  },
  "language_info": {
   "codemirror_mode": {
    "name": "ipython",
    "version": 3
   },
   "file_extension": ".py",
   "mimetype": "text/x-python",
   "name": "python",
   "nbconvert_exporter": "python",
   "pygments_lexer": "ipython3",
   "version": "3.12.2"
  }
 },
 "nbformat": 4,
 "nbformat_minor": 2
}
